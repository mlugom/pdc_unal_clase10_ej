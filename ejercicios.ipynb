{
 "cells": [
  {
   "cell_type": "markdown",
   "metadata": {},
   "source": [
    "**Ejercicio 1:** Diseñe un algoritmo que involucre un ciclo y que nunca ingrese al ciclo."
   ]
  },
  {
   "cell_type": "code",
   "execution_count": null,
   "metadata": {},
   "outputs": [],
   "source": [
    "print('Antes del ciclo')\n",
    "\n",
    "while False:\n",
    "    print('Está dentro del ciclo')\n",
    "\n",
    "print('Después del ciclo')"
   ]
  },
  {
   "cell_type": "markdown",
   "metadata": {},
   "source": [
    "**Ejercicio 3**: Diseñe un algoritmo que pida un valor entero, y que siga leyendo valores enteros mientras que alguno de esos valores no represente el código ASCII de una letra mayúscula en el abc del inglés."
   ]
  },
  {
   "cell_type": "code",
   "execution_count": null,
   "metadata": {},
   "outputs": [],
   "source": [
    "def representaMayuscula(valor: int) -> bool:\n",
    "    asciiParaA: int = ord('A')\n",
    "    asciiParaZ: int = ord('Z')\n",
    "\n",
    "    resultado = valor >= asciiParaA and valor <= asciiParaZ\n",
    "\n",
    "    return resultado\n",
    "\n",
    "num: int = 0\n",
    "\n",
    "while not representaMayuscula(num):\n",
    "    num = int(input(\"Ingrese un entero: \"))\n",
    "    print(\"El entero corresponde al caracter \" + chr(num))"
   ]
  },
  {
   "cell_type": "code",
   "execution_count": null,
   "metadata": {},
   "outputs": [],
   "source": []
  }
 ],
 "metadata": {
  "kernelspec": {
   "display_name": "Python 3",
   "language": "python",
   "name": "python3"
  },
  "language_info": {
   "codemirror_mode": {
    "name": "ipython",
    "version": 3
   },
   "file_extension": ".py",
   "mimetype": "text/x-python",
   "name": "python",
   "nbconvert_exporter": "python",
   "pygments_lexer": "ipython3",
   "version": "3.10.12"
  },
  "orig_nbformat": 4
 },
 "nbformat": 4,
 "nbformat_minor": 2
}
