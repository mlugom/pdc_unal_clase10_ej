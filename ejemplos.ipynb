{
 "cells": [
  {
   "cell_type": "markdown",
   "metadata": {},
   "source": [
    "**Ejemplo 1:** Partes del *while*"
   ]
  },
  {
   "cell_type": "code",
   "execution_count": 2,
   "metadata": {},
   "outputs": [
    {
     "name": "stdout",
     "output_type": "stream",
     "text": [
      "0\n",
      "1\n",
      "2\n",
      "3\n",
      "4\n",
      "5\n",
      "6\n"
     ]
    }
   ],
   "source": [
    "i = 0 # Inicia\n",
    "while (i <= 6): # Condición de parada\n",
    "    print(i) # Bloque\n",
    "    i += 1 # Actualiza"
   ]
  },
  {
   "cell_type": "markdown",
   "metadata": {},
   "source": [
    "**Ejemplo 2:** Bucle *while* con dos variables"
   ]
  },
  {
   "cell_type": "code",
   "execution_count": 3,
   "metadata": {},
   "outputs": [
    {
     "name": "stdout",
     "output_type": "stream",
     "text": [
      "2, 25\n",
      "4, 35\n",
      "8, 45\n",
      "16, 55\n",
      "32, 65\n",
      "64, 75\n",
      "The end.\n",
      "128, 85\n"
     ]
    }
   ],
   "source": [
    "i = 2\n",
    "j = 25\n",
    "while i < j: # Condición de parada\n",
    "    print(i, j, sep = \", \")\n",
    "\n",
    "    i *= 2\n",
    "    j += 10\n",
    "\n",
    "print(\"The end.\")\n",
    "print(i, j, sep = \", \")"
   ]
  },
  {
   "cell_type": "markdown",
   "metadata": {},
   "source": [
    "**Ejemplo 3:** Implementar ej ejercicio 4 usando un do while con bandera"
   ]
  },
  {
   "cell_type": "code",
   "execution_count": 5,
   "metadata": {},
   "outputs": [
    {
     "name": "stdout",
     "output_type": "stream",
     "text": [
      "El entero corresponde al caracter \u0001\n",
      "El entero corresponde al caracter \u0002\n",
      "El entero corresponde al caracter \u0001\n",
      "El entero corresponde al caracter \u0004\n",
      "El entero corresponde al caracter \u0007\n",
      "El entero corresponde al caracter \u001d\n",
      "El entero corresponde al caracter '\n",
      "El entero corresponde al caracter W\n"
     ]
    }
   ],
   "source": [
    "def representaMayuscula(valor: int) -> bool:\n",
    "    asciiParaA: int = ord('A')\n",
    "    asciiParaZ: int = ord('Z')\n",
    "\n",
    "    resultado = valor >= asciiParaA and valor <= asciiParaZ\n",
    "\n",
    "    return resultado\n",
    "\n",
    "bandera: bool = True\n",
    "while bandera or not representaMayuscula(num):\n",
    "    bandera = False\n",
    "    num = int(input(\"Ingrese un entero: \"))\n",
    "    print(\"El entero corresponde al caracter \" + chr(num))"
   ]
  },
  {
   "cell_type": "markdown",
   "metadata": {},
   "source": [
    "**Ejemplo 4:** Hacer un programa que imprima los números del 1 al 10, exceptuando el 5"
   ]
  },
  {
   "cell_type": "code",
   "execution_count": 1,
   "metadata": {},
   "outputs": [
    {
     "name": "stdout",
     "output_type": "stream",
     "text": [
      "1\n",
      "2\n",
      "3\n",
      "4\n",
      "6\n",
      "7\n",
      "8\n",
      "9\n",
      "10\n"
     ]
    }
   ],
   "source": [
    "i: int = 0\n",
    "while i < 10:\n",
    "    i += 1\n",
    "    if i == 5:\n",
    "        continue\n",
    "    print(i)"
   ]
  },
  {
   "cell_type": "markdown",
   "metadata": {},
   "source": [
    "*Solución alternativa*"
   ]
  },
  {
   "cell_type": "code",
   "execution_count": 3,
   "metadata": {},
   "outputs": [
    {
     "name": "stdout",
     "output_type": "stream",
     "text": [
      "1\n",
      "2\n",
      "3\n",
      "4\n",
      "6\n",
      "7\n",
      "8\n",
      "9\n",
      "10\n"
     ]
    }
   ],
   "source": [
    "i: int = 1\n",
    "while i <= 10:\n",
    "    if i != 5:\n",
    "        print(i)\n",
    "    \n",
    "    i += 1\n"
   ]
  },
  {
   "cell_type": "markdown",
   "metadata": {},
   "source": [
    "**Ejemplo 5:** Desarrollar un programa que lea números enteros y los sume hasta que lea un cero (0)"
   ]
  },
  {
   "cell_type": "code",
   "execution_count": 4,
   "metadata": {},
   "outputs": [
    {
     "name": "stdout",
     "output_type": "stream",
     "text": [
      "La suma hasta ahora es 1\n",
      "La suma hasta ahora es 2\n",
      "La suma hasta ahora es 3\n",
      "La suma hasta ahora es 4\n",
      "La suma hasta ahora es 6\n",
      "La suma hasta ahora es 10\n",
      "La suma hasta ahora es 14\n",
      "La suma hasta ahora es 21\n",
      "Ciclo terminado\n"
     ]
    }
   ],
   "source": [
    "sum: int = 0\n",
    "while True:\n",
    "    num = int(input('Ingrese un número entero, o 0 para salir: '))\n",
    "    if num == 0:\n",
    "        break\n",
    "\n",
    "    sum += num\n",
    "    print('La suma hasta ahora es ' + str(sum))\n",
    "\n",
    "print('Ciclo terminado')"
   ]
  },
  {
   "cell_type": "markdown",
   "metadata": {},
   "source": [
    "**Ejemplo 6:** Implementar el ejemplo 5 sin usar la instrucción break"
   ]
  },
  {
   "cell_type": "code",
   "execution_count": 7,
   "metadata": {},
   "outputs": [
    {
     "name": "stdout",
     "output_type": "stream",
     "text": [
      "La suma hasta ahora es 1\n",
      "La suma hasta ahora es 3\n",
      "La suma hasta ahora es 6\n",
      "La suma hasta ahora es 6\n",
      "Ciclo terminado\n"
     ]
    }
   ],
   "source": [
    "sum: int = 0\n",
    "bandera: bool = True\n",
    "\n",
    "while bandera or num != 0:\n",
    "    bandera = False\n",
    "    num = int(input('Ingrese un número entero, o 0 para salir: '))\n",
    "    sum += num\n",
    "    print('La suma hasta ahora es ' + str(sum))\n",
    "\n",
    "print('Ciclo terminado')"
   ]
  },
  {
   "cell_type": "markdown",
   "metadata": {},
   "source": [
    "*Solución alternativa*"
   ]
  },
  {
   "cell_type": "code",
   "execution_count": 6,
   "metadata": {},
   "outputs": [
    {
     "name": "stdout",
     "output_type": "stream",
     "text": [
      "La suma hasta ahora es 1\n",
      "La suma hasta ahora es 5\n",
      "La suma hasta ahora es 7\n",
      "La suma hasta ahora es 7\n",
      "Ciclo terminado\n"
     ]
    }
   ],
   "source": [
    "sum: int = 0\n",
    "seguirIterando: bool = True\n",
    "\n",
    "while seguirIterando:\n",
    "    num = int(input('Ingrese un número entero, o 0 para salir: '))\n",
    "    seguirIterando = num != 0\n",
    "\n",
    "    sum += num\n",
    "    print('La suma hasta ahora es ' + str(sum))\n",
    "\n",
    "print('Ciclo terminado')"
   ]
  },
  {
   "cell_type": "code",
   "execution_count": null,
   "metadata": {},
   "outputs": [],
   "source": []
  }
 ],
 "metadata": {
  "kernelspec": {
   "display_name": "Python 3",
   "language": "python",
   "name": "python3"
  },
  "language_info": {
   "codemirror_mode": {
    "name": "ipython",
    "version": 3
   },
   "file_extension": ".py",
   "mimetype": "text/x-python",
   "name": "python",
   "nbconvert_exporter": "python",
   "pygments_lexer": "ipython3",
   "version": "3.10.12"
  },
  "orig_nbformat": 4
 },
 "nbformat": 4,
 "nbformat_minor": 2
}
