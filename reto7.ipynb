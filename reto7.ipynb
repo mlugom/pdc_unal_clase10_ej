{
 "cells": [
  {
   "cell_type": "markdown",
   "metadata": {},
   "source": [
    "1. Imprimir un listado con los números del 1 al 100 cada uno con su respectivo cuadrado."
   ]
  },
  {
   "cell_type": "code",
   "execution_count": 2,
   "metadata": {},
   "outputs": [
    {
     "name": "stdout",
     "output_type": "stream",
     "text": [
      "1, 1\n",
      "2, 4\n",
      "3, 9\n",
      "4, 16\n",
      "5, 25\n",
      "6, 36\n",
      "7, 49\n",
      "8, 64\n",
      "9, 81\n",
      "10, 100\n",
      "11, 121\n",
      "12, 144\n",
      "13, 169\n",
      "14, 196\n",
      "15, 225\n",
      "16, 256\n",
      "17, 289\n",
      "18, 324\n",
      "19, 361\n",
      "20, 400\n",
      "21, 441\n",
      "22, 484\n",
      "23, 529\n",
      "24, 576\n",
      "25, 625\n",
      "26, 676\n",
      "27, 729\n",
      "28, 784\n",
      "29, 841\n",
      "30, 900\n",
      "31, 961\n",
      "32, 1024\n",
      "33, 1089\n",
      "34, 1156\n",
      "35, 1225\n",
      "36, 1296\n",
      "37, 1369\n",
      "38, 1444\n",
      "39, 1521\n",
      "40, 1600\n",
      "41, 1681\n",
      "42, 1764\n",
      "43, 1849\n",
      "44, 1936\n",
      "45, 2025\n",
      "46, 2116\n",
      "47, 2209\n",
      "48, 2304\n",
      "49, 2401\n",
      "50, 2500\n",
      "51, 2601\n",
      "52, 2704\n",
      "53, 2809\n",
      "54, 2916\n",
      "55, 3025\n",
      "56, 3136\n",
      "57, 3249\n",
      "58, 3364\n",
      "59, 3481\n",
      "60, 3600\n",
      "61, 3721\n",
      "62, 3844\n",
      "63, 3969\n",
      "64, 4096\n",
      "65, 4225\n",
      "66, 4356\n",
      "67, 4489\n",
      "68, 4624\n",
      "69, 4761\n",
      "70, 4900\n",
      "71, 5041\n",
      "72, 5184\n",
      "73, 5329\n",
      "74, 5476\n",
      "75, 5625\n",
      "76, 5776\n",
      "77, 5929\n",
      "78, 6084\n",
      "79, 6241\n",
      "80, 6400\n",
      "81, 6561\n",
      "82, 6724\n",
      "83, 6889\n",
      "84, 7056\n",
      "85, 7225\n",
      "86, 7396\n",
      "87, 7569\n",
      "88, 7744\n",
      "89, 7921\n",
      "90, 8100\n",
      "91, 8281\n",
      "92, 8464\n",
      "93, 8649\n",
      "94, 8836\n",
      "95, 9025\n",
      "96, 9216\n",
      "97, 9409\n",
      "98, 9604\n",
      "99, 9801\n",
      "100, 10000\n"
     ]
    }
   ],
   "source": [
    "num: int = 1\n",
    "\n",
    "while num <= 100:\n",
    "    cuadrado = num**2\n",
    "\n",
    "    print(num, cuadrado, sep=', ')\n",
    "    num += 1"
   ]
  },
  {
   "cell_type": "markdown",
   "metadata": {},
   "source": [
    "2. Imprimir un listado con los números impares desde 1 hasta 999 y seguidamente otro listado con los números pares desde 2 hasta 1000."
   ]
  },
  {
   "cell_type": "code",
   "execution_count": null,
   "metadata": {},
   "outputs": [],
   "source": [
    "num1: int = 1\n",
    "while num1 <= 999:\n",
    "    esImpar = num1 % 2 != 0\n",
    "\n",
    "    if esImpar:\n",
    "        print(num1)\n",
    "\n",
    "    num1 += 1\n",
    "\n",
    "num2: int = 2\n",
    "while num2 <= 1000:\n",
    "    esPar = num2 % 2 == 0\n",
    "\n",
    "    if esPar:\n",
    "        print(num2)\n",
    "    \n",
    "    num2 += 1"
   ]
  },
  {
   "cell_type": "markdown",
   "metadata": {},
   "source": [
    "3. Imprimir los números pares en forma descendente hasta 2 que son menores o iguales a un número natural n ≥ 2 dado"
   ]
  },
  {
   "cell_type": "code",
   "execution_count": 4,
   "metadata": {},
   "outputs": [
    {
     "name": "stdout",
     "output_type": "stream",
     "text": [
      "10\n",
      "8\n",
      "6\n",
      "4\n",
      "2\n"
     ]
    }
   ],
   "source": [
    "esMenor: bool = True\n",
    "while esMenor:\n",
    "    n: int = int(input('Ingrese un número natural mayor o igual que 2: '))\n",
    "    esMenor = n < 2\n",
    "\n",
    "esPar: bool\n",
    "while n >= 2:\n",
    "    esPar = n % 2 == 0\n",
    "    if esPar:\n",
    "        print(n)\n",
    "    \n",
    "    n -= 1    "
   ]
  },
  {
   "cell_type": "markdown",
   "metadata": {},
   "source": [
    "4. En 2022 el país A tendrá una población de 25 millones de habitantes y el país B de 18:9 millones. Las tasas de crecimiento anual de la población serán de 2% y 3% respectivamente. Desarrollar un algoritmo para informar en que año la población del país B superará a la de A."
   ]
  },
  {
   "cell_type": "code",
   "execution_count": 5,
   "metadata": {},
   "outputs": [
    {
     "name": "stdout",
     "output_type": "stream",
     "text": [
      "La población del país B superará a la del A en el año 2051\n"
     ]
    }
   ],
   "source": [
    "startYear: int = 2022\n",
    "poblacionAEnMillones: float = 25\n",
    "poblacionBEnMillones: float = 18.9\n",
    "\n",
    "tasaA: float = 0.02\n",
    "tasaB: float = 0.03\n",
    "\n",
    "currentYear: int = startYear\n",
    "while poblacionBEnMillones <= poblacionAEnMillones:\n",
    "    poblacionAEnMillones *= (1 + tasaA)\n",
    "    poblacionBEnMillones *= (1 + tasaB)\n",
    "\n",
    "    currentYear += 1\n",
    "\n",
    "print('La población del país B superará a la del A en el año ' + str(currentYear))"
   ]
  },
  {
   "cell_type": "markdown",
   "metadata": {},
   "source": [
    "5. Imprimir el factorial de un número natural n dado."
   ]
  },
  {
   "cell_type": "code",
   "execution_count": 8,
   "metadata": {},
   "outputs": [
    {
     "name": "stdout",
     "output_type": "stream",
     "text": [
      "El factorial es 1\n"
     ]
    }
   ],
   "source": [
    "n: int = int(input('Ingrese un número natural: '))\n",
    "\n",
    "if n == 0:\n",
    "    n = 1\n",
    "\n",
    "factorial: int = 1\n",
    "numeroIterador: int = 1\n",
    "\n",
    "while numeroIterador <= n:\n",
    "    factorial *= numeroIterador\n",
    "\n",
    "    numeroIterador += 1\n",
    "\n",
    "print('El factorial es ' + str(factorial))"
   ]
  },
  {
   "cell_type": "markdown",
   "metadata": {},
   "source": [
    "6. Implementar un algoritmo que permita adivinar un número dado de 1 a 100, preguntando en cada caso si el número es mayor, menor o igual."
   ]
  },
  {
   "cell_type": "code",
   "execution_count": 12,
   "metadata": {},
   "outputs": [
    {
     "name": "stdout",
     "output_type": "stream",
     "text": [
      "Piense en un número del 1 al 100. Apuesto a que se lo adivino\n",
      "Entrada incorrecta. Intente de nuevo\n",
      "Entrada incorrecta. Intente de nuevo\n"
     ]
    },
    {
     "ename": "ValueError",
     "evalue": "invalid literal for int() with base 10: ''",
     "output_type": "error",
     "traceback": [
      "\u001b[0;31m---------------------------------------------------------------------------\u001b[0m",
      "\u001b[0;31mValueError\u001b[0m                                Traceback (most recent call last)",
      "\u001b[1;32m/home/manuel/misc/clases_unal_progra/2023-2/clase10-bucles1/reto7.ipynb Cell 12\u001b[0m line \u001b[0;36m1\n\u001b[1;32m     <a href='vscode-notebook-cell://wsl%2Bubuntu-22.04/home/manuel/misc/clases_unal_progra/2023-2/clase10-bucles1/reto7.ipynb#X30sdnNjb2RlLXJlbW90ZQ%3D%3D?line=10'>11</a>\u001b[0m seguirAdivinando: \u001b[39mbool\u001b[39m \u001b[39m=\u001b[39m \u001b[39mTrue\u001b[39;00m\n\u001b[1;32m     <a href='vscode-notebook-cell://wsl%2Bubuntu-22.04/home/manuel/misc/clases_unal_progra/2023-2/clase10-bucles1/reto7.ipynb#X30sdnNjb2RlLXJlbW90ZQ%3D%3D?line=11'>12</a>\u001b[0m \u001b[39mwhile\u001b[39;00m seguirAdivinando:\n\u001b[0;32m---> <a href='vscode-notebook-cell://wsl%2Bubuntu-22.04/home/manuel/misc/clases_unal_progra/2023-2/clase10-bucles1/reto7.ipynb#X30sdnNjb2RlLXJlbW90ZQ%3D%3D?line=12'>13</a>\u001b[0m     respuesta: \u001b[39mint\u001b[39m \u001b[39m=\u001b[39m \u001b[39mint\u001b[39;49m(\u001b[39minput\u001b[39;49m(\u001b[39m'\u001b[39;49m\u001b[39mIndíqueme si su número es mayor (1), menor (2) o igual (3) a \u001b[39;49m\u001b[39m'\u001b[39;49m \u001b[39m+\u001b[39;49m \u001b[39mstr\u001b[39;49m(numeroComparado)))\n\u001b[1;32m     <a href='vscode-notebook-cell://wsl%2Bubuntu-22.04/home/manuel/misc/clases_unal_progra/2023-2/clase10-bucles1/reto7.ipynb#X30sdnNjb2RlLXJlbW90ZQ%3D%3D?line=14'>15</a>\u001b[0m     esMayor \u001b[39m=\u001b[39m respuesta \u001b[39m==\u001b[39m \u001b[39m1\u001b[39m\n\u001b[1;32m     <a href='vscode-notebook-cell://wsl%2Bubuntu-22.04/home/manuel/misc/clases_unal_progra/2023-2/clase10-bucles1/reto7.ipynb#X30sdnNjb2RlLXJlbW90ZQ%3D%3D?line=15'>16</a>\u001b[0m     esMenor \u001b[39m=\u001b[39m respuesta \u001b[39m==\u001b[39m \u001b[39m2\u001b[39m\n",
      "\u001b[0;31mValueError\u001b[0m: invalid literal for int() with base 10: ''"
     ]
    }
   ],
   "source": [
    "limiteInferior: int = 1\n",
    "limiteSuperior: int = 100\n",
    "\n",
    "numeroComparado: int = (limiteSuperior + limiteInferior)//2\n",
    "\n",
    "print('Piense en un número del 1 al 100. Apuesto a que se lo adivino')\n",
    "esMayor: bool\n",
    "esMenor: bool\n",
    "esIgual: bool\n",
    "\n",
    "seguirAdivinando: bool = True\n",
    "while seguirAdivinando:\n",
    "    respuesta: int = int(input('Indíqueme si su número es mayor (1), menor (2) o igual (3) a ' + str(numeroComparado)))\n",
    "\n",
    "    esMayor = respuesta == 1\n",
    "    esMenor = respuesta == 2\n",
    "    esIgual = respuesta == 3\n",
    "\n",
    "    if esMayor:\n",
    "        limiteInferior = numeroComparado\n",
    "        numeroComparado = (limiteSuperior + numeroComparado)//2\n",
    "    elif esMenor:\n",
    "        limiteSuperior = numeroComparado\n",
    "        numeroComparado = (limiteInferior + numeroComparado)//2\n",
    "    elif esIgual:\n",
    "        seguirAdivinando = False\n",
    "    else:\n",
    "        print('Entrada incorrecta. Intente de nuevo')\n",
    "\n",
    "print('Su número es ' + str(numeroComparado))"
   ]
  },
  {
   "cell_type": "markdown",
   "metadata": {},
   "source": [
    "7. Implementar un programa que ingrese un número de 2 a 50 y muestre sus divisores"
   ]
  },
  {
   "cell_type": "code",
   "execution_count": 13,
   "metadata": {},
   "outputs": [
    {
     "name": "stdout",
     "output_type": "stream",
     "text": [
      "Divisores:\n",
      "1\n",
      "2\n",
      "4\n",
      "5\n",
      "8\n",
      "10\n",
      "20\n",
      "40\n"
     ]
    }
   ],
   "source": [
    "n: int = int(input('Ingrese un número entre 2 y 50: '))\n",
    "\n",
    "posibleDivisor: int = 1\n",
    "\n",
    "print('Divisores del número ' + str(n) + ':')\n",
    "while posibleDivisor <= n:\n",
    "    residuo: int = n % posibleDivisor\n",
    "    if residuo == 0:\n",
    "        print(posibleDivisor)\n",
    "\n",
    "    posibleDivisor += 1"
   ]
  },
  {
   "cell_type": "markdown",
   "metadata": {},
   "source": [
    "8. Implementar el algoritmo que muestre los números primos del 1 al 100. **Nota:** use funciones"
   ]
  },
  {
   "cell_type": "code",
   "execution_count": 14,
   "metadata": {},
   "outputs": [
    {
     "name": "stdout",
     "output_type": "stream",
     "text": [
      "Los números primos del 1 al 100 son:\n",
      "2\n",
      "3\n",
      "5\n",
      "7\n",
      "11\n",
      "13\n",
      "17\n",
      "19\n",
      "23\n",
      "29\n",
      "31\n",
      "37\n",
      "41\n",
      "43\n",
      "47\n",
      "53\n",
      "59\n",
      "61\n",
      "67\n",
      "71\n",
      "73\n",
      "79\n",
      "83\n",
      "89\n",
      "97\n"
     ]
    }
   ],
   "source": [
    "def determinarSiEsPrimo(n: int) -> bool:\n",
    "    posibleDivisor: int = 1\n",
    "    numeroDeDivisores: int = 0\n",
    "\n",
    "    while posibleDivisor <= n:\n",
    "        residuo: int = n % posibleDivisor\n",
    "        if residuo == 0:\n",
    "            numeroDeDivisores += 1\n",
    "        \n",
    "        posibleDivisor += 1\n",
    "    \n",
    "    if numeroDeDivisores == 2:\n",
    "        return True\n",
    "    else:\n",
    "        return False\n",
    "    \n",
    "print('Los números primos del 1 al 100 son:')\n",
    "\n",
    "numero: int = 1\n",
    "esPrimo: bool\n",
    "while numero <= 100:\n",
    "    esPrimo = determinarSiEsPrimo(numero)\n",
    "    if esPrimo:\n",
    "        print(numero)\n",
    "    \n",
    "    numero += 1"
   ]
  }
 ],
 "metadata": {
  "kernelspec": {
   "display_name": "Python 3",
   "language": "python",
   "name": "python3"
  },
  "language_info": {
   "codemirror_mode": {
    "name": "ipython",
    "version": 3
   },
   "file_extension": ".py",
   "mimetype": "text/x-python",
   "name": "python",
   "nbconvert_exporter": "python",
   "pygments_lexer": "ipython3",
   "version": "3.10.12"
  },
  "orig_nbformat": 4
 },
 "nbformat": 4,
 "nbformat_minor": 2
}
